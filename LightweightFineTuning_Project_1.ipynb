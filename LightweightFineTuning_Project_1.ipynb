{
 "cells": [
  {
   "cell_type": "markdown",
   "metadata": {},
   "source": [
    "# Lightweight Fine-Tuning Project"
   ]
  },
  {
   "cell_type": "markdown",
   "metadata": {},
   "source": [
    "TODO: In this cell, describe your choices for each of the following\n",
    "\n",
    "* PEFT technique: Using the LORA technique with task type as SEQ_CLS to specify a classification model\n",
    "* Model: Roberta-base for Sequence Classification\n",
    "* Evaluation approach: Accuracy \n",
    "* Fine-tuning dataset: dair-ai/emotion dataset from huggingface containing six emotion classes which are: sadness, joy, love, anger, fear, surprise"
   ]
  },
  {
   "cell_type": "code",
   "execution_count": 1,
   "metadata": {},
   "outputs": [
    {
     "name": "stdout",
     "output_type": "stream",
     "text": [
      "Requirement already satisfied: peft in c:\\users\\p083058\\documents\\python environments\\qq_classification\\env\\lib\\site-packages (0.10.0)\n",
      "Requirement already satisfied: numpy>=1.17 in c:\\users\\p083058\\documents\\python environments\\qq_classification\\env\\lib\\site-packages (from peft) (1.26.1)\n",
      "Requirement already satisfied: packaging>=20.0 in c:\\users\\p083058\\documents\\python environments\\qq_classification\\env\\lib\\site-packages (from peft) (23.2)\n",
      "Requirement already satisfied: psutil in c:\\users\\p083058\\documents\\python environments\\qq_classification\\env\\lib\\site-packages (from peft) (5.9.6)\n",
      "Requirement already satisfied: pyyaml in c:\\users\\p083058\\documents\\python environments\\qq_classification\\env\\lib\\site-packages (from peft) (6.0.1)\n",
      "Requirement already satisfied: torch>=1.13.0 in c:\\users\\p083058\\documents\\python environments\\qq_classification\\env\\lib\\site-packages (from peft) (2.1.1)\n",
      "Requirement already satisfied: transformers in c:\\users\\p083058\\documents\\python environments\\qq_classification\\env\\lib\\site-packages (from peft) (4.34.1)\n",
      "Requirement already satisfied: tqdm in c:\\users\\p083058\\documents\\python environments\\qq_classification\\env\\lib\\site-packages (from peft) (4.66.1)\n",
      "Requirement already satisfied: accelerate>=0.21.0 in c:\\users\\p083058\\documents\\python environments\\qq_classification\\env\\lib\\site-packages (from peft) (0.24.1)\n",
      "Requirement already satisfied: safetensors in c:\\users\\p083058\\documents\\python environments\\qq_classification\\env\\lib\\site-packages (from peft) (0.4.0)\n",
      "Requirement already satisfied: huggingface-hub>=0.17.0 in c:\\users\\p083058\\documents\\python environments\\qq_classification\\env\\lib\\site-packages (from peft) (0.17.3)\n",
      "Requirement already satisfied: filelock in c:\\users\\p083058\\documents\\python environments\\qq_classification\\env\\lib\\site-packages (from huggingface-hub>=0.17.0->peft) (3.12.4)\n",
      "Requirement already satisfied: fsspec in c:\\users\\p083058\\documents\\python environments\\qq_classification\\env\\lib\\site-packages (from huggingface-hub>=0.17.0->peft) (2023.10.0)\n",
      "Requirement already satisfied: requests in c:\\users\\p083058\\documents\\python environments\\qq_classification\\env\\lib\\site-packages (from huggingface-hub>=0.17.0->peft) (2.31.0)\n",
      "Requirement already satisfied: typing-extensions>=3.7.4.3 in c:\\users\\p083058\\documents\\python environments\\qq_classification\\env\\lib\\site-packages (from huggingface-hub>=0.17.0->peft) (4.8.0)\n",
      "Requirement already satisfied: sympy in c:\\users\\p083058\\documents\\python environments\\qq_classification\\env\\lib\\site-packages (from torch>=1.13.0->peft) (1.12)\n",
      "Requirement already satisfied: networkx in c:\\users\\p083058\\documents\\python environments\\qq_classification\\env\\lib\\site-packages (from torch>=1.13.0->peft) (3.2.1)\n",
      "Requirement already satisfied: jinja2 in c:\\users\\p083058\\documents\\python environments\\qq_classification\\env\\lib\\site-packages (from torch>=1.13.0->peft) (3.1.2)\n",
      "Requirement already satisfied: colorama in c:\\users\\p083058\\documents\\python environments\\qq_classification\\env\\lib\\site-packages (from tqdm->peft) (0.4.6)\n",
      "Requirement already satisfied: regex!=2019.12.17 in c:\\users\\p083058\\documents\\python environments\\qq_classification\\env\\lib\\site-packages (from transformers->peft) (2023.10.3)\n",
      "Requirement already satisfied: tokenizers<0.15,>=0.14 in c:\\users\\p083058\\documents\\python environments\\qq_classification\\env\\lib\\site-packages (from transformers->peft) (0.14.1)\n",
      "Requirement already satisfied: MarkupSafe>=2.0 in c:\\users\\p083058\\documents\\python environments\\qq_classification\\env\\lib\\site-packages (from jinja2->torch>=1.13.0->peft) (2.1.3)\n",
      "Requirement already satisfied: charset-normalizer<4,>=2 in c:\\users\\p083058\\documents\\python environments\\qq_classification\\env\\lib\\site-packages (from requests->huggingface-hub>=0.17.0->peft) (3.3.1)\n",
      "Requirement already satisfied: idna<4,>=2.5 in c:\\users\\p083058\\documents\\python environments\\qq_classification\\env\\lib\\site-packages (from requests->huggingface-hub>=0.17.0->peft) (3.4)\n",
      "Requirement already satisfied: urllib3<3,>=1.21.1 in c:\\users\\p083058\\documents\\python environments\\qq_classification\\env\\lib\\site-packages (from requests->huggingface-hub>=0.17.0->peft) (2.0.7)\n",
      "Requirement already satisfied: certifi>=2017.4.17 in c:\\users\\p083058\\documents\\python environments\\qq_classification\\env\\lib\\site-packages (from requests->huggingface-hub>=0.17.0->peft) (2023.7.22)\n",
      "Requirement already satisfied: mpmath>=0.19 in c:\\users\\p083058\\documents\\python environments\\qq_classification\\env\\lib\\site-packages (from sympy->torch>=1.13.0->peft) (1.3.0)\n"
     ]
    },
    {
     "name": "stderr",
     "output_type": "stream",
     "text": [
      "\n",
      "[notice] A new release of pip is available: 23.3.1 -> 24.0\n",
      "[notice] To update, run: python.exe -m pip install --upgrade pip\n"
     ]
    }
   ],
   "source": [
    "# install required libraries\n",
    "!pip install peft"
   ]
  },
  {
   "cell_type": "markdown",
   "metadata": {},
   "source": [
    "## Loading and Evaluating a Foundation Model\n"
   ]
  },
  {
   "cell_type": "code",
   "execution_count": 1,
   "metadata": {},
   "outputs": [
    {
     "name": "stderr",
     "output_type": "stream",
     "text": [
      "c:\\Users\\P083058\\Documents\\Python Environments\\qq_classification\\env\\Lib\\site-packages\\tqdm\\auto.py:21: TqdmWarning: IProgress not found. Please update jupyter and ipywidgets. See https://ipywidgets.readthedocs.io/en/stable/user_install.html\n",
      "  from .autonotebook import tqdm as notebook_tqdm\n"
     ]
    }
   ],
   "source": [
    "# import required libraries\n",
    "import torch\n",
    "from datasets import load_dataset"
   ]
  },
  {
   "cell_type": "code",
   "execution_count": 2,
   "metadata": {},
   "outputs": [],
   "source": [
    "# due to not enough computing power only loading subset of the train, validation and test dataset\n",
    "emotion_train = load_dataset(\"dair-ai/emotion\", split=\"train[:2000]\")\n",
    "emotion_validation = load_dataset(\"dair-ai/emotion\", split=\"validation[:100]\")\n",
    "emotion_test = load_dataset(\"dair-ai/emotion\", split=\"test[:100]\")"
   ]
  },
  {
   "cell_type": "code",
   "execution_count": 3,
   "metadata": {},
   "outputs": [
    {
     "data": {
      "text/plain": [
       "Dataset({\n",
       "    features: ['text', 'label'],\n",
       "    num_rows: 2000\n",
       "})"
      ]
     },
     "execution_count": 3,
     "metadata": {},
     "output_type": "execute_result"
    }
   ],
   "source": [
    "# check train dataset\n",
    "emotion_train"
   ]
  },
  {
   "cell_type": "code",
   "execution_count": 4,
   "metadata": {},
   "outputs": [],
   "source": [
    "# the foundation model for evaluation\n",
    "model_name = \"roberta-base\""
   ]
  },
  {
   "cell_type": "code",
   "execution_count": 5,
   "metadata": {},
   "outputs": [
    {
     "name": "stderr",
     "output_type": "stream",
     "text": [
      "Some weights of RobertaForSequenceClassification were not initialized from the model checkpoint at roberta-base and are newly initialized: ['classifier.dense.bias', 'classifier.dense.weight', 'classifier.out_proj.weight', 'classifier.out_proj.bias']\n",
      "You should probably TRAIN this model on a down-stream task to be able to use it for predictions and inference.\n"
     ]
    }
   ],
   "source": [
    "# define the model and the tokenizer\n",
    "from transformers import AutoTokenizer, AutoModelForSequenceClassification\n",
    "\n",
    "tokenizer = AutoTokenizer.from_pretrained(model_name)\n",
    "model = AutoModelForSequenceClassification.from_pretrained(model_name, num_labels = 6)"
   ]
  },
  {
   "cell_type": "code",
   "execution_count": 6,
   "metadata": {},
   "outputs": [],
   "source": [
    "# define function to carry out tokenization of the training data\n",
    "def preprocess_function(examples):\n",
    "    return tokenizer(examples[\"text\"], padding = \"max_length\", truncation = True, return_tensors=\"pt\")"
   ]
  },
  {
   "cell_type": "code",
   "execution_count": 7,
   "metadata": {},
   "outputs": [],
   "source": [
    "# get the model output on the test dataset\n",
    "inputs = tokenizer(emotion_test[\"text\"], padding = \"max_length\", truncation = True, return_tensors=\"pt\")\n",
    "\n",
    "with torch.no_grad():\n",
    "    logits = model(**inputs).logits\n",
    "\n",
    "predicted_class_id = logits.argmax(dim = 1)"
   ]
  },
  {
   "cell_type": "code",
   "execution_count": 8,
   "metadata": {},
   "outputs": [
    {
     "name": "stdout",
     "output_type": "stream",
     "text": [
      "accuracy without any finetuning on the test dataset 17.0 %\n"
     ]
    }
   ],
   "source": [
    "# accuracy of foundation model on test dataset without fine-tuning\n",
    "from sklearn.metrics import accuracy_score\n",
    "accuracy = accuracy_score(emotion_test['label'], predicted_class_id)\n",
    "print(f\"accuracy without any finetuning on the test dataset {accuracy * 100} %\")"
   ]
  },
  {
   "cell_type": "markdown",
   "metadata": {},
   "source": [
    "## Performing Parameter-Efficient Fine-Tuning"
   ]
  },
  {
   "cell_type": "code",
   "execution_count": 9,
   "metadata": {},
   "outputs": [
    {
     "name": "stderr",
     "output_type": "stream",
     "text": [
      "Map: 100%|██████████| 2000/2000 [00:00<00:00, 3779.22 examples/s]\n",
      "Map: 100%|██████████| 100/100 [00:00<00:00, 2429.33 examples/s]\n"
     ]
    }
   ],
   "source": [
    "# tokenize the train and validation dataset\n",
    "tokenized_emotion_train = emotion_train.map(preprocess_function, batched = True)\n",
    "tokenized_emotion_validation = emotion_validation.map(preprocess_function, batched = True)"
   ]
  },
  {
   "cell_type": "code",
   "execution_count": 10,
   "metadata": {},
   "outputs": [],
   "source": [
    "# remove the text list as it is not required for training\n",
    "tokenized_emotion_train = tokenized_emotion_train.remove_columns([\"text\"])\n",
    "tokenized_emotion_validation = tokenized_emotion_validation.remove_columns([\"text\"])"
   ]
  },
  {
   "cell_type": "code",
   "execution_count": 11,
   "metadata": {},
   "outputs": [],
   "source": [
    "# LORA accepts \"labels\" instead of \"label\" so rename accordingly\n",
    "train_lora = tokenized_emotion_train.rename_column('label', 'labels')\n",
    "valid_lora = tokenized_emotion_validation.rename_column('label', 'labels')"
   ]
  },
  {
   "cell_type": "code",
   "execution_count": 12,
   "metadata": {},
   "outputs": [
    {
     "name": "stdout",
     "output_type": "stream",
     "text": [
      "WARNING:tensorflow:From c:\\Users\\P083058\\Documents\\Python Environments\\qq_classification\\env\\Lib\\site-packages\\keras\\src\\losses.py:2976: The name tf.losses.sparse_softmax_cross_entropy is deprecated. Please use tf.compat.v1.losses.sparse_softmax_cross_entropy instead.\n",
      "\n"
     ]
    }
   ],
   "source": [
    "# import the accuracy function from evaluate library\n",
    "import evaluate\n",
    "import numpy as np\n",
    "\n",
    "accuracy = evaluate.load(\"accuracy\")\n",
    "\n",
    "def compute_metrics(eval_pred):\n",
    "    predictions, labels = eval_pred\n",
    "    predictions = np.argmax(predictions, axis=1)\n",
    "    return accuracy.compute(predictions=predictions, references=labels)"
   ]
  },
  {
   "cell_type": "code",
   "execution_count": 13,
   "metadata": {},
   "outputs": [],
   "source": [
    "# create a PEFT config with appropriate hyperparameters for your the model.\n",
    "from peft import LoraConfig, get_peft_model, TaskType\n",
    "\n",
    "config = LoraConfig(task_type = \"SEQ_CLS\", \n",
    "                    inference_mode = False, \n",
    "                    r = 8, \n",
    "                    lora_alpha = 16, \n",
    "                    lora_dropout = 0.01)"
   ]
  },
  {
   "cell_type": "code",
   "execution_count": 14,
   "metadata": {},
   "outputs": [],
   "source": [
    "# using the PEFT config and foundation model, create a PEFT model.\n",
    "lora_model = get_peft_model(model, config)"
   ]
  },
  {
   "cell_type": "code",
   "execution_count": 15,
   "metadata": {},
   "outputs": [
    {
     "name": "stdout",
     "output_type": "stream",
     "text": [
      "trainable params: 890,118 || all params: 125,540,364 || trainable%: 0.7090293286070128\n"
     ]
    }
   ],
   "source": [
    "# check the trainable parameters\n",
    "lora_model.print_trainable_parameters()"
   ]
  },
  {
   "cell_type": "code",
   "execution_count": 16,
   "metadata": {},
   "outputs": [],
   "source": [
    "# define the training arguments\n",
    "from transformers import TrainingArguments, Trainer\n",
    "\n",
    "training_args = TrainingArguments(\n",
    "    output_dir=\"my_awesome_model_2_roberta\",\n",
    "    learning_rate=2e-5,\n",
    "    per_device_train_batch_size=4,\n",
    "    per_device_eval_batch_size=4,\n",
    "    num_train_epochs=3,\n",
    "    weight_decay=0.01,\n",
    "    evaluation_strategy=\"epoch\",\n",
    "    save_strategy=\"epoch\",\n",
    "    load_best_model_at_end=True\n",
    ")\n",
    "\n",
    "trainer = Trainer(\n",
    "    model=lora_model,\n",
    "    args=training_args,\n",
    "    train_dataset=train_lora,\n",
    "    eval_dataset=valid_lora,\n",
    "    tokenizer=tokenizer\n",
    "    # compute_metrics=compute_metrics,\n",
    ")"
   ]
  },
  {
   "cell_type": "code",
   "execution_count": 17,
   "metadata": {},
   "outputs": [
    {
     "name": "stderr",
     "output_type": "stream",
     "text": [
      "  0%|          | 0/1500 [00:00<?, ?it/s]You're using a RobertaTokenizerFast tokenizer. Please note that with a fast tokenizer, using the `__call__` method is faster than using a method to encode the text followed by a call to the `pad` method to get a padded encoding.\n",
      " 33%|███▎      | 500/1500 [38:52<1:16:57,  4.62s/it]"
     ]
    },
    {
     "name": "stdout",
     "output_type": "stream",
     "text": [
      "{'loss': 1.6473, 'learning_rate': 1.3333333333333333e-05, 'epoch': 1.0}\n"
     ]
    },
    {
     "name": "stderr",
     "output_type": "stream",
     "text": [
      "                                                    \n",
      " 33%|███▎      | 500/1500 [40:00<1:16:57,  4.62s/it]"
     ]
    },
    {
     "name": "stdout",
     "output_type": "stream",
     "text": [
      "{'eval_loss': 1.5461130142211914, 'eval_runtime': 68.3691, 'eval_samples_per_second': 1.463, 'eval_steps_per_second': 0.366, 'epoch': 1.0}\n"
     ]
    },
    {
     "name": "stderr",
     "output_type": "stream",
     "text": [
      " 67%|██████▋   | 1000/1500 [1:18:44<37:58,  4.56s/it]"
     ]
    },
    {
     "name": "stdout",
     "output_type": "stream",
     "text": [
      "{'loss': 1.5755, 'learning_rate': 6.666666666666667e-06, 'epoch': 2.0}\n"
     ]
    },
    {
     "name": "stderr",
     "output_type": "stream",
     "text": [
      "                                                     \n",
      " 67%|██████▋   | 1000/1500 [1:19:53<37:58,  4.56s/it]"
     ]
    },
    {
     "name": "stdout",
     "output_type": "stream",
     "text": [
      "{'eval_loss': 1.4854538440704346, 'eval_runtime': 68.2852, 'eval_samples_per_second': 1.464, 'eval_steps_per_second': 0.366, 'epoch': 2.0}\n"
     ]
    },
    {
     "name": "stderr",
     "output_type": "stream",
     "text": [
      "100%|██████████| 1500/1500 [1:58:41<00:00,  4.63s/it]  "
     ]
    },
    {
     "name": "stdout",
     "output_type": "stream",
     "text": [
      "{'loss': 1.4835, 'learning_rate': 0.0, 'epoch': 3.0}\n"
     ]
    },
    {
     "name": "stderr",
     "output_type": "stream",
     "text": [
      "                                                     \n",
      "100%|██████████| 1500/1500 [1:59:54<00:00,  4.63s/it]"
     ]
    },
    {
     "name": "stdout",
     "output_type": "stream",
     "text": [
      "{'eval_loss': 1.37740159034729, 'eval_runtime': 72.7088, 'eval_samples_per_second': 1.375, 'eval_steps_per_second': 0.344, 'epoch': 3.0}\n"
     ]
    },
    {
     "name": "stderr",
     "output_type": "stream",
     "text": [
      "100%|██████████| 1500/1500 [1:59:55<00:00,  4.80s/it]"
     ]
    },
    {
     "name": "stdout",
     "output_type": "stream",
     "text": [
      "{'train_runtime': 7195.5313, 'train_samples_per_second': 0.834, 'train_steps_per_second': 0.208, 'train_loss': 1.5687763671875, 'epoch': 3.0}\n"
     ]
    },
    {
     "name": "stderr",
     "output_type": "stream",
     "text": [
      "\n"
     ]
    }
   ],
   "source": [
    "# run the training loop\n",
    "train_results = trainer.train()"
   ]
  },
  {
   "cell_type": "code",
   "execution_count": 18,
   "metadata": {},
   "outputs": [],
   "source": [
    "# save the trained model and the tokenizer\n",
    "tokenizer.save_pretrained(\"roberta-base-lora-token\")\n",
    "lora_model.save_pretrained(\"roberta-base-lora\")"
   ]
  },
  {
   "cell_type": "markdown",
   "metadata": {},
   "source": [
    "## Performing Inference with a PEFT Model"
   ]
  },
  {
   "cell_type": "code",
   "execution_count": 20,
   "metadata": {},
   "outputs": [
    {
     "name": "stderr",
     "output_type": "stream",
     "text": [
      "Some weights of RobertaForSequenceClassification were not initialized from the model checkpoint at roberta-base and are newly initialized: ['classifier.dense.bias', 'classifier.dense.weight', 'classifier.out_proj.weight', 'classifier.out_proj.bias']\n",
      "You should probably TRAIN this model on a down-stream task to be able to use it for predictions and inference.\n"
     ]
    }
   ],
   "source": [
    "# load the fine-tuned the PEFT model for inference and get the model predictions on test dataset\n",
    "from peft import AutoPeftModelForSequenceClassification\n",
    "from transformers import AutoTokenizer\n",
    "\n",
    "inference_model = AutoPeftModelForSequenceClassification.from_pretrained(\"roberta-base-lora\", num_labels = 6)\n",
    "tokenizer = AutoTokenizer.from_pretrained(\"roberta-base-lora-token\")\n",
    "\n",
    "inputs = tokenizer(emotion_test[\"text\"], padding = \"max_length\", truncation = True, return_tensors=\"pt\")\n",
    "\n",
    "with torch.no_grad():\n",
    "    logits = inference_model(**inputs).logits\n",
    "\n",
    "predicted_class_id_lora = logits.argmax(dim = 1)"
   ]
  },
  {
   "cell_type": "code",
   "execution_count": 21,
   "metadata": {},
   "outputs": [
    {
     "name": "stdout",
     "output_type": "stream",
     "text": [
      "accuracy with finetuning on the test dataset 54.0 %\n"
     ]
    }
   ],
   "source": [
    "# check the accuracy of the fine-tuned model on the test dataset\n",
    "from sklearn.metrics import accuracy_score\n",
    "accuracy = accuracy_score(emotion_test['label'], predicted_class_id_lora)\n",
    "print(f\"accuracy with finetuning on the test dataset {accuracy * 100} %\")"
   ]
  },
  {
   "cell_type": "code",
   "execution_count": 2,
   "metadata": {},
   "outputs": [],
   "source": [
    "# the accuracy increased from 17% to 54% with just a sample of dataset and can be further improved by hyper-paramter tuning and\n",
    "# increasing the training dataset"
   ]
  },
  {
   "cell_type": "code",
   "execution_count": null,
   "metadata": {},
   "outputs": [],
   "source": []
  }
 ],
 "metadata": {
  "kernelspec": {
   "display_name": "Python 3",
   "language": "python",
   "name": "python3"
  },
  "language_info": {
   "codemirror_mode": {
    "name": "ipython",
    "version": 3
   },
   "file_extension": ".py",
   "mimetype": "text/x-python",
   "name": "python",
   "nbconvert_exporter": "python",
   "pygments_lexer": "ipython3",
   "version": "3.11.5"
  }
 },
 "nbformat": 4,
 "nbformat_minor": 2
}
